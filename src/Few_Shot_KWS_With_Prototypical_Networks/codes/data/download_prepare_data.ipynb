{
 "cells": [
  {
   "cell_type": "code",
   "execution_count": 1,
   "id": "37b204a0-2c1a-40d2-a45f-7b6da7c67433",
   "metadata": {},
   "outputs": [],
   "source": [
    "import os\n",
    "import sys\n",
    "import urllib\n",
    "import tarfile\n",
    "import torchaudio\n",
    "import glob\n",
    "import random\n",
    "import shutil"
   ]
  },
  {
   "cell_type": "code",
   "execution_count": 2,
   "id": "3ed8c167-8595-4abd-a072-28414c62b860",
   "metadata": {},
   "outputs": [
    {
     "name": "stdout",
     "output_type": "stream",
     "text": [
      "Collecting torchtnt\n",
      "  Downloading torchtnt-0.2.4-py3-none-any.whl.metadata (3.1 kB)\n",
      "Requirement already satisfied: torch in /Users/xrickliao/miniconda3/miniconda3/envs/acdnetenv/lib/python3.11/site-packages (from torchtnt) (2.1.2)\n",
      "Requirement already satisfied: numpy in /Users/xrickliao/miniconda3/miniconda3/envs/acdnetenv/lib/python3.11/site-packages (from torchtnt) (1.26.2)\n",
      "Requirement already satisfied: fsspec in /Users/xrickliao/miniconda3/miniconda3/envs/acdnetenv/lib/python3.11/site-packages (from torchtnt) (2023.12.2)\n",
      "Requirement already satisfied: tensorboard in /Users/xrickliao/miniconda3/miniconda3/envs/acdnetenv/lib/python3.11/site-packages (from torchtnt) (2.15.1)\n",
      "Requirement already satisfied: packaging in /Users/xrickliao/miniconda3/miniconda3/envs/acdnetenv/lib/python3.11/site-packages (from torchtnt) (23.2)\n",
      "Requirement already satisfied: psutil in /Users/xrickliao/miniconda3/miniconda3/envs/acdnetenv/lib/python3.11/site-packages (from torchtnt) (5.9.7)\n",
      "Collecting pyre-extensions (from torchtnt)\n",
      "  Downloading pyre_extensions-0.0.30-py3-none-any.whl.metadata (4.0 kB)\n",
      "Requirement already satisfied: typing-extensions in /Users/xrickliao/miniconda3/miniconda3/envs/acdnetenv/lib/python3.11/site-packages (from torchtnt) (4.9.0)\n",
      "Requirement already satisfied: setuptools in /Users/xrickliao/miniconda3/miniconda3/envs/acdnetenv/lib/python3.11/site-packages (from torchtnt) (68.0.0)\n",
      "Collecting tqdm (from torchtnt)\n",
      "  Downloading tqdm-4.66.4-py3-none-any.whl.metadata (57 kB)\n",
      "\u001b[2K     \u001b[90m━━━━━━━━━━━━━━━━━━━━━━━━━━━━━━━━━━━━━━━\u001b[0m \u001b[32m57.6/57.6 kB\u001b[0m \u001b[31m908.3 kB/s\u001b[0m eta \u001b[36m0:00:00\u001b[0m \u001b[36m0:00:01\u001b[0m\n",
      "\u001b[?25hRequirement already satisfied: tabulate in /Users/xrickliao/miniconda3/miniconda3/envs/acdnetenv/lib/python3.11/site-packages (from torchtnt) (0.9.0)\n",
      "Collecting typing-inspect (from pyre-extensions->torchtnt)\n",
      "  Downloading typing_inspect-0.9.0-py3-none-any.whl.metadata (1.5 kB)\n",
      "Requirement already satisfied: absl-py>=0.4 in /Users/xrickliao/miniconda3/miniconda3/envs/acdnetenv/lib/python3.11/site-packages (from tensorboard->torchtnt) (2.1.0)\n",
      "Requirement already satisfied: grpcio>=1.48.2 in /Users/xrickliao/miniconda3/miniconda3/envs/acdnetenv/lib/python3.11/site-packages (from tensorboard->torchtnt) (1.60.0)\n",
      "Requirement already satisfied: google-auth<3,>=1.6.3 in /Users/xrickliao/miniconda3/miniconda3/envs/acdnetenv/lib/python3.11/site-packages (from tensorboard->torchtnt) (2.27.0)\n",
      "Requirement already satisfied: google-auth-oauthlib<2,>=0.5 in /Users/xrickliao/miniconda3/miniconda3/envs/acdnetenv/lib/python3.11/site-packages (from tensorboard->torchtnt) (1.2.0)\n",
      "Requirement already satisfied: markdown>=2.6.8 in /Users/xrickliao/miniconda3/miniconda3/envs/acdnetenv/lib/python3.11/site-packages (from tensorboard->torchtnt) (3.5.2)\n",
      "Requirement already satisfied: protobuf<4.24,>=3.19.6 in /Users/xrickliao/miniconda3/miniconda3/envs/acdnetenv/lib/python3.11/site-packages (from tensorboard->torchtnt) (3.20.3)\n",
      "Requirement already satisfied: requests<3,>=2.21.0 in /Users/xrickliao/miniconda3/miniconda3/envs/acdnetenv/lib/python3.11/site-packages (from tensorboard->torchtnt) (2.31.0)\n",
      "Requirement already satisfied: six>1.9 in /Users/xrickliao/miniconda3/miniconda3/envs/acdnetenv/lib/python3.11/site-packages (from tensorboard->torchtnt) (1.16.0)\n",
      "Requirement already satisfied: tensorboard-data-server<0.8.0,>=0.7.0 in /Users/xrickliao/miniconda3/miniconda3/envs/acdnetenv/lib/python3.11/site-packages (from tensorboard->torchtnt) (0.7.2)\n",
      "Requirement already satisfied: werkzeug>=1.0.1 in /Users/xrickliao/miniconda3/miniconda3/envs/acdnetenv/lib/python3.11/site-packages (from tensorboard->torchtnt) (3.0.1)\n",
      "Requirement already satisfied: filelock in /Users/xrickliao/miniconda3/miniconda3/envs/acdnetenv/lib/python3.11/site-packages (from torch->torchtnt) (3.13.1)\n",
      "Requirement already satisfied: sympy in /Users/xrickliao/miniconda3/miniconda3/envs/acdnetenv/lib/python3.11/site-packages (from torch->torchtnt) (1.12)\n",
      "Requirement already satisfied: networkx in /Users/xrickliao/miniconda3/miniconda3/envs/acdnetenv/lib/python3.11/site-packages (from torch->torchtnt) (3.2.1)\n",
      "Requirement already satisfied: jinja2 in /Users/xrickliao/miniconda3/miniconda3/envs/acdnetenv/lib/python3.11/site-packages (from torch->torchtnt) (3.1.2)\n",
      "Requirement already satisfied: cachetools<6.0,>=2.0.0 in /Users/xrickliao/miniconda3/miniconda3/envs/acdnetenv/lib/python3.11/site-packages (from google-auth<3,>=1.6.3->tensorboard->torchtnt) (5.3.2)\n",
      "Requirement already satisfied: pyasn1-modules>=0.2.1 in /Users/xrickliao/miniconda3/miniconda3/envs/acdnetenv/lib/python3.11/site-packages (from google-auth<3,>=1.6.3->tensorboard->torchtnt) (0.3.0)\n",
      "Requirement already satisfied: rsa<5,>=3.1.4 in /Users/xrickliao/miniconda3/miniconda3/envs/acdnetenv/lib/python3.11/site-packages (from google-auth<3,>=1.6.3->tensorboard->torchtnt) (4.9)\n",
      "Requirement already satisfied: requests-oauthlib>=0.7.0 in /Users/xrickliao/miniconda3/miniconda3/envs/acdnetenv/lib/python3.11/site-packages (from google-auth-oauthlib<2,>=0.5->tensorboard->torchtnt) (1.3.1)\n",
      "Requirement already satisfied: charset-normalizer<4,>=2 in /Users/xrickliao/miniconda3/miniconda3/envs/acdnetenv/lib/python3.11/site-packages (from requests<3,>=2.21.0->tensorboard->torchtnt) (3.3.2)\n",
      "Requirement already satisfied: idna<4,>=2.5 in /Users/xrickliao/miniconda3/miniconda3/envs/acdnetenv/lib/python3.11/site-packages (from requests<3,>=2.21.0->tensorboard->torchtnt) (3.6)\n",
      "Requirement already satisfied: urllib3<3,>=1.21.1 in /Users/xrickliao/miniconda3/miniconda3/envs/acdnetenv/lib/python3.11/site-packages (from requests<3,>=2.21.0->tensorboard->torchtnt) (2.1.0)\n",
      "Requirement already satisfied: certifi>=2017.4.17 in /Users/xrickliao/miniconda3/miniconda3/envs/acdnetenv/lib/python3.11/site-packages (from requests<3,>=2.21.0->tensorboard->torchtnt) (2023.11.17)\n",
      "Requirement already satisfied: MarkupSafe>=2.1.1 in /Users/xrickliao/miniconda3/miniconda3/envs/acdnetenv/lib/python3.11/site-packages (from werkzeug>=1.0.1->tensorboard->torchtnt) (2.1.3)\n",
      "Requirement already satisfied: mpmath>=0.19 in /Users/xrickliao/miniconda3/miniconda3/envs/acdnetenv/lib/python3.11/site-packages (from sympy->torch->torchtnt) (1.3.0)\n",
      "Collecting mypy-extensions>=0.3.0 (from typing-inspect->pyre-extensions->torchtnt)\n",
      "  Downloading mypy_extensions-1.0.0-py3-none-any.whl.metadata (1.1 kB)\n",
      "Requirement already satisfied: pyasn1<0.6.0,>=0.4.6 in /Users/xrickliao/miniconda3/miniconda3/envs/acdnetenv/lib/python3.11/site-packages (from pyasn1-modules>=0.2.1->google-auth<3,>=1.6.3->tensorboard->torchtnt) (0.5.1)\n",
      "Requirement already satisfied: oauthlib>=3.0.0 in /Users/xrickliao/miniconda3/miniconda3/envs/acdnetenv/lib/python3.11/site-packages (from requests-oauthlib>=0.7.0->google-auth-oauthlib<2,>=0.5->tensorboard->torchtnt) (3.2.2)\n",
      "Downloading torchtnt-0.2.4-py3-none-any.whl (163 kB)\n",
      "\u001b[2K   \u001b[90m━━━━━━━━━━━━━━━━━━━━━━━━━━━━━━━━━━━━━━━━\u001b[0m \u001b[32m163.5/163.5 kB\u001b[0m \u001b[31m2.6 MB/s\u001b[0m eta \u001b[36m0:00:00\u001b[0m \u001b[36m0:00:01\u001b[0m\n",
      "\u001b[?25hDownloading pyre_extensions-0.0.30-py3-none-any.whl (12 kB)\n",
      "Downloading tqdm-4.66.4-py3-none-any.whl (78 kB)\n",
      "\u001b[2K   \u001b[90m━━━━━━━━━━━━━━━━━━━━━━━━━━━━━━━━━━━━━━━━\u001b[0m \u001b[32m78.3/78.3 kB\u001b[0m \u001b[31m7.4 MB/s\u001b[0m eta \u001b[36m0:00:00\u001b[0m\n",
      "\u001b[?25hDownloading typing_inspect-0.9.0-py3-none-any.whl (8.8 kB)\n",
      "Downloading mypy_extensions-1.0.0-py3-none-any.whl (4.7 kB)\n",
      "Installing collected packages: tqdm, mypy-extensions, typing-inspect, pyre-extensions, torchtnt\n",
      "Successfully installed mypy-extensions-1.0.0 pyre-extensions-0.0.30 torchtnt-0.2.4 tqdm-4.66.4 typing-inspect-0.9.0\n"
     ]
    }
   ],
   "source": [
    "!pip install torchtnt"
   ]
  },
  {
   "cell_type": "code",
   "execution_count": null,
   "id": "e0288f5d-6199-4631-96db-aeb5615d64d0",
   "metadata": {},
   "outputs": [],
   "source": [
    "dataset_path = \"../../../../../NN_Impl_DataSets/speech_commands/\""
   ]
  }
 ],
 "metadata": {
  "kernelspec": {
   "display_name": "Python 3 (ipykernel)",
   "language": "python",
   "name": "python3"
  },
  "language_info": {
   "codemirror_mode": {
    "name": "ipython",
    "version": 3
   },
   "file_extension": ".py",
   "mimetype": "text/x-python",
   "name": "python",
   "nbconvert_exporter": "python",
   "pygments_lexer": "ipython3",
   "version": "3.11.5"
  }
 },
 "nbformat": 4,
 "nbformat_minor": 5
}
